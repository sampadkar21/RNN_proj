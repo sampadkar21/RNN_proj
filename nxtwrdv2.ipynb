{
 "cells": [
  {
   "cell_type": "code",
   "execution_count": 46,
   "metadata": {
    "execution": {
     "iopub.execute_input": "2025-04-02T15:13:46.699555Z",
     "iopub.status.busy": "2025-04-02T15:13:46.699182Z",
     "iopub.status.idle": "2025-04-02T15:13:46.703562Z",
     "shell.execute_reply": "2025-04-02T15:13:46.702511Z",
     "shell.execute_reply.started": "2025-04-02T15:13:46.699508Z"
    },
    "trusted": true
   },
   "outputs": [],
   "source": [
    "import pandas\n",
    "from datasets import load_dataset\n",
    "import re\n",
    "from collections import Counter"
   ]
  },
  {
   "cell_type": "code",
   "execution_count": 47,
   "metadata": {
    "execution": {
     "iopub.execute_input": "2025-04-02T15:13:46.705047Z",
     "iopub.status.busy": "2025-04-02T15:13:46.704765Z",
     "iopub.status.idle": "2025-04-02T15:13:50.066710Z",
     "shell.execute_reply": "2025-04-02T15:13:50.065948Z",
     "shell.execute_reply.started": "2025-04-02T15:13:46.705018Z"
    },
    "trusted": true
   },
   "outputs": [],
   "source": [
    "train = load_dataset(\"imdb\", split=\"train[:5%]\")\n",
    "train_text = train[\"text\"]"
   ]
  },
  {
   "cell_type": "code",
   "execution_count": 48,
   "metadata": {
    "execution": {
     "iopub.execute_input": "2025-04-02T15:13:50.068894Z",
     "iopub.status.busy": "2025-04-02T15:13:50.068629Z",
     "iopub.status.idle": "2025-04-02T15:13:50.073434Z",
     "shell.execute_reply": "2025-04-02T15:13:50.072564Z",
     "shell.execute_reply.started": "2025-04-02T15:13:50.068871Z"
    },
    "trusted": true
   },
   "outputs": [],
   "source": [
    "def clean_nulls(lst):\n",
    "    sentences = []\n",
    "    for sent in train_text:\n",
    "        if not len(sent) < 2:\n",
    "            sentences.append(sent)\n",
    "    return sentences\n",
    "\n",
    "train_text = clean_nulls(train_text)"
   ]
  },
  {
   "cell_type": "code",
   "execution_count": 49,
   "metadata": {
    "execution": {
     "iopub.execute_input": "2025-04-02T15:13:50.075045Z",
     "iopub.status.busy": "2025-04-02T15:13:50.074780Z",
     "iopub.status.idle": "2025-04-02T15:13:50.088183Z",
     "shell.execute_reply": "2025-04-02T15:13:50.087563Z",
     "shell.execute_reply.started": "2025-04-02T15:13:50.075024Z"
    },
    "trusted": true
   },
   "outputs": [
    {
     "data": {
      "text/plain": [
       "1250"
      ]
     },
     "execution_count": 49,
     "metadata": {},
     "output_type": "execute_result"
    }
   ],
   "source": [
    "len(train_text)"
   ]
  },
  {
   "cell_type": "code",
   "execution_count": 50,
   "metadata": {
    "execution": {
     "iopub.execute_input": "2025-04-02T15:13:50.089194Z",
     "iopub.status.busy": "2025-04-02T15:13:50.088953Z",
     "iopub.status.idle": "2025-04-02T15:13:50.560773Z",
     "shell.execute_reply": "2025-04-02T15:13:50.560103Z",
     "shell.execute_reply.started": "2025-04-02T15:13:50.089163Z"
    },
    "trusted": true
   },
   "outputs": [],
   "source": [
    "def keep_english_only(text):\n",
    "    text = re.sub(r\"[^A-Za-z,'()\\\"\\s\\-]\", \"\", text)\n",
    "    text = re.sub(r\"\\b\\w*(\\w)\\1{2,}\\w*\\b\", \"\", text)\n",
    "    \n",
    "    # Remove excessive dots, commas, or other repeated punctuation\n",
    "    text = re.sub(r\"[!?.,-]{2,}\", \" \", text)  \n",
    "\n",
    "    # Remove any mixed repeated punctuation (like \"?!??!\", \"!!!\")\n",
    "    text = re.sub(r\"([!?.,-])\\1+\", r\"\\1\", text)  \n",
    "    \n",
    "    # Remove isolated \"br\" (often HTML line breaks in IMDB dataset)\n",
    "    text = re.sub(r\"\\bbr\\b\", \" \", text)\n",
    "    \n",
    "    return text\n",
    "\n",
    "train_text = [keep_english_only(txt) for txt in train_text]"
   ]
  },
  {
   "cell_type": "code",
   "execution_count": 51,
   "metadata": {
    "execution": {
     "iopub.execute_input": "2025-04-02T15:13:50.561897Z",
     "iopub.status.busy": "2025-04-02T15:13:50.561593Z",
     "iopub.status.idle": "2025-04-02T15:13:50.804025Z",
     "shell.execute_reply": "2025-04-02T15:13:50.803396Z",
     "shell.execute_reply.started": "2025-04-02T15:13:50.561866Z"
    },
    "trusted": true
   },
   "outputs": [],
   "source": [
    "def clean_bracket_texts(text):\n",
    "    if not isinstance(text, str):  \n",
    "        return \"\"\n",
    "    cleaned_text = re.sub(r\"\\s*\\([^)]*\\)\\s*\", \" \", text)\n",
    "    return re.sub(r\"\\s+\", \" \", cleaned_text).strip() \n",
    "\n",
    "train_text = [clean_bracket_texts(txt) for txt in train_text]"
   ]
  },
  {
   "cell_type": "code",
   "execution_count": 52,
   "metadata": {
    "execution": {
     "iopub.execute_input": "2025-04-02T15:13:50.804934Z",
     "iopub.status.busy": "2025-04-02T15:13:50.804712Z",
     "iopub.status.idle": "2025-04-02T15:13:52.352102Z",
     "shell.execute_reply": "2025-04-02T15:13:52.351443Z",
     "shell.execute_reply.started": "2025-04-02T15:13:50.804915Z"
    },
    "trusted": true
   },
   "outputs": [],
   "source": [
    "from nltk.tokenize import TreebankWordTokenizer\n",
    "tokenizer = TreebankWordTokenizer()\n",
    "train_text = [tokenizer.tokenize(txt) for txt in train_text]"
   ]
  },
  {
   "cell_type": "code",
   "execution_count": 53,
   "metadata": {
    "execution": {
     "iopub.execute_input": "2025-04-02T15:13:52.352978Z",
     "iopub.status.busy": "2025-04-02T15:13:52.352758Z",
     "iopub.status.idle": "2025-04-02T15:13:52.410060Z",
     "shell.execute_reply": "2025-04-02T15:13:52.409169Z",
     "shell.execute_reply.started": "2025-04-02T15:13:52.352960Z"
    },
    "trusted": true
   },
   "outputs": [],
   "source": [
    "tt = [[tok for tok in sent if tok!=''] for sent in train_text]\n",
    "train_text = tt"
   ]
  },
  {
   "cell_type": "code",
   "execution_count": 54,
   "metadata": {
    "execution": {
     "iopub.execute_input": "2025-04-02T15:13:52.413131Z",
     "iopub.status.busy": "2025-04-02T15:13:52.412914Z",
     "iopub.status.idle": "2025-04-02T15:13:52.527177Z",
     "shell.execute_reply": "2025-04-02T15:13:52.526521Z",
     "shell.execute_reply.started": "2025-04-02T15:13:52.413113Z"
    },
    "trusted": true
   },
   "outputs": [],
   "source": [
    "train_text = [[txt.lower() for txt in sent if isinstance(txt, str)] for sent in train_text]"
   ]
  },
  {
   "cell_type": "code",
   "execution_count": 55,
   "metadata": {
    "execution": {
     "iopub.execute_input": "2025-04-02T15:13:52.528536Z",
     "iopub.status.busy": "2025-04-02T15:13:52.528251Z",
     "iopub.status.idle": "2025-04-02T15:13:52.534427Z",
     "shell.execute_reply": "2025-04-02T15:13:52.533701Z",
     "shell.execute_reply.started": "2025-04-02T15:13:52.528504Z"
    },
    "trusted": true
   },
   "outputs": [],
   "source": [
    "train_text = [sent for sent in train_text if len(sent)<501]"
   ]
  },
  {
   "cell_type": "code",
   "execution_count": 56,
   "metadata": {
    "execution": {
     "iopub.execute_input": "2025-04-02T15:13:52.535594Z",
     "iopub.status.busy": "2025-04-02T15:13:52.535337Z",
     "iopub.status.idle": "2025-04-02T15:13:52.549674Z",
     "shell.execute_reply": "2025-04-02T15:13:52.549037Z",
     "shell.execute_reply.started": "2025-04-02T15:13:52.535574Z"
    },
    "trusted": true
   },
   "outputs": [
    {
     "data": {
      "text/plain": [
       "306"
      ]
     },
     "execution_count": 56,
     "metadata": {},
     "output_type": "execute_result"
    }
   ],
   "source": [
    "len(max(train_text))"
   ]
  },
  {
   "cell_type": "code",
   "execution_count": 57,
   "metadata": {
    "execution": {
     "iopub.execute_input": "2025-04-02T15:13:52.550656Z",
     "iopub.status.busy": "2025-04-02T15:13:52.550377Z",
     "iopub.status.idle": "2025-04-02T15:13:52.616052Z",
     "shell.execute_reply": "2025-04-02T15:13:52.615398Z",
     "shell.execute_reply.started": "2025-04-02T15:13:52.550637Z"
    },
    "trusted": true
   },
   "outputs": [],
   "source": [
    "cleaned_train_text = [[txt for txt in sent if txt not in ['``',\"''\",\"'\",\"-\"]] for sent in train_text]\n",
    "train_text = cleaned_train_text"
   ]
  },
  {
   "cell_type": "code",
   "execution_count": 58,
   "metadata": {
    "execution": {
     "iopub.execute_input": "2025-04-02T15:13:52.617007Z",
     "iopub.status.busy": "2025-04-02T15:13:52.616815Z",
     "iopub.status.idle": "2025-04-02T15:13:52.698020Z",
     "shell.execute_reply": "2025-04-02T15:13:52.697371Z",
     "shell.execute_reply.started": "2025-04-02T15:13:52.616991Z"
    },
    "trusted": true
   },
   "outputs": [],
   "source": [
    "flat_data = [token for sentence in train_text for token in sentence if token]\n",
    "word_counts = Counter(flat_data)\n",
    "vocab = {word for word, count in word_counts.items() if count >= 2}\n",
    "word2idx = {word: idx+2 for idx, word in enumerate(vocab)}\n",
    "word2idx[\"<PAD>\"] = 0\n",
    "word2idx[\"<OOV>\"] = 1\n",
    "idx2word = {idx: word for word, idx in word2idx.items()}"
   ]
  },
  {
   "cell_type": "code",
   "execution_count": 59,
   "metadata": {
    "execution": {
     "iopub.execute_input": "2025-04-02T15:13:52.698749Z",
     "iopub.status.busy": "2025-04-02T15:13:52.698554Z",
     "iopub.status.idle": "2025-04-02T15:13:52.703445Z",
     "shell.execute_reply": "2025-04-02T15:13:52.702642Z",
     "shell.execute_reply.started": "2025-04-02T15:13:52.698732Z"
    },
    "trusted": true
   },
   "outputs": [
    {
     "data": {
      "text/plain": [
       "17156"
      ]
     },
     "execution_count": 59,
     "metadata": {},
     "output_type": "execute_result"
    }
   ],
   "source": [
    "len(word_counts)"
   ]
  },
  {
   "cell_type": "code",
   "execution_count": 60,
   "metadata": {
    "execution": {
     "iopub.execute_input": "2025-04-02T15:13:52.704534Z",
     "iopub.status.busy": "2025-04-02T15:13:52.704298Z",
     "iopub.status.idle": "2025-04-02T15:13:52.718290Z",
     "shell.execute_reply": "2025-04-02T15:13:52.717666Z",
     "shell.execute_reply.started": "2025-04-02T15:13:52.704507Z"
    },
    "trusted": true
   },
   "outputs": [
    {
     "data": {
      "text/plain": [
       "8097"
      ]
     },
     "execution_count": 60,
     "metadata": {},
     "output_type": "execute_result"
    }
   ],
   "source": [
    "len(word2idx)"
   ]
  },
  {
   "cell_type": "code",
   "execution_count": 61,
   "metadata": {
    "execution": {
     "iopub.execute_input": "2025-04-02T15:13:52.719384Z",
     "iopub.status.busy": "2025-04-02T15:13:52.719105Z",
     "iopub.status.idle": "2025-04-02T15:13:54.339142Z",
     "shell.execute_reply": "2025-04-02T15:13:54.338444Z",
     "shell.execute_reply.started": "2025-04-02T15:13:52.719355Z"
    },
    "trusted": true
   },
   "outputs": [],
   "source": [
    "sequences = []\n",
    "targets = []\n",
    "\n",
    "for l in train_text:\n",
    "    for i in range(len(l) - 1): \n",
    "        n_gram_seq = l[:i+1]\n",
    "        sequences.append(n_gram_seq)\n",
    "        targets.append(l[i+1])"
   ]
  },
  {
   "cell_type": "code",
   "execution_count": 62,
   "metadata": {
    "execution": {
     "iopub.execute_input": "2025-04-02T15:13:54.340253Z",
     "iopub.status.busy": "2025-04-02T15:13:54.339953Z",
     "iopub.status.idle": "2025-04-02T15:14:02.066826Z",
     "shell.execute_reply": "2025-04-02T15:14:02.066078Z",
     "shell.execute_reply.started": "2025-04-02T15:13:54.340223Z"
    },
    "trusted": true
   },
   "outputs": [],
   "source": [
    "sequences = [[word2idx.get(token, word2idx[\"<OOV>\"]) for token in seq] for seq in sequences]\n",
    "targets = [word2idx.get(token, word2idx[\"<OOV>\"]) for token in targets]"
   ]
  },
  {
   "cell_type": "code",
   "execution_count": 63,
   "metadata": {
    "execution": {
     "iopub.execute_input": "2025-04-02T15:14:02.067901Z",
     "iopub.status.busy": "2025-04-02T15:14:02.067617Z",
     "iopub.status.idle": "2025-04-02T15:14:10.246383Z",
     "shell.execute_reply": "2025-04-02T15:14:10.245461Z",
     "shell.execute_reply.started": "2025-04-02T15:14:02.067871Z"
    },
    "trusted": true
   },
   "outputs": [],
   "source": [
    "import torch\n",
    "from torch.utils.data import Dataset,DataLoader\n",
    "from torch.nn.utils.rnn import pad_sequence\n",
    "sequences_t = [torch.tensor(seq,dtype=torch.long) for seq in sequences]\n",
    "targets_t = [torch.tensor(t, dtype=torch.long) for t in targets]"
   ]
  },
  {
   "cell_type": "code",
   "execution_count": 64,
   "metadata": {
    "execution": {
     "iopub.execute_input": "2025-04-02T15:14:10.247660Z",
     "iopub.status.busy": "2025-04-02T15:14:10.247316Z",
     "iopub.status.idle": "2025-04-02T15:14:10.251998Z",
     "shell.execute_reply": "2025-04-02T15:14:10.251230Z",
     "shell.execute_reply.started": "2025-04-02T15:14:10.247629Z"
    },
    "trusted": true
   },
   "outputs": [],
   "source": [
    "class CustomDataset:\n",
    "    def __init__(self,x,y):\n",
    "        self.x = x\n",
    "        self.y = y\n",
    "        \n",
    "    def __len__(self):\n",
    "        return len(self.x)\n",
    "    \n",
    "    def __getitem__(self,idx):\n",
    "        return self.x[idx],self.y[idx]"
   ]
  },
  {
   "cell_type": "code",
   "execution_count": 65,
   "metadata": {
    "execution": {
     "iopub.execute_input": "2025-04-02T15:14:10.252974Z",
     "iopub.status.busy": "2025-04-02T15:14:10.252756Z",
     "iopub.status.idle": "2025-04-02T15:14:11.004963Z",
     "shell.execute_reply": "2025-04-02T15:14:11.004249Z",
     "shell.execute_reply.started": "2025-04-02T15:14:10.252955Z"
    },
    "trusted": true
   },
   "outputs": [],
   "source": [
    "def collate_fn(batch):\n",
    "    sequences, targets = zip(*batch)\n",
    "    padded_sequences = pad_sequence(sequences, batch_first=True, padding_value=0, padding_side='left')\n",
    "    return padded_sequences, torch.tensor(targets)\n",
    "\n",
    "dataset = CustomDataset(sequences_t,targets_t)\n",
    "dataloader = DataLoader(dataset=dataset, batch_size=64, collate_fn=collate_fn)"
   ]
  },
  {
   "cell_type": "code",
   "execution_count": 66,
   "metadata": {
    "execution": {
     "iopub.execute_input": "2025-04-02T15:14:11.006013Z",
     "iopub.status.busy": "2025-04-02T15:14:11.005777Z",
     "iopub.status.idle": "2025-04-02T15:14:11.026257Z",
     "shell.execute_reply": "2025-04-02T15:14:11.025468Z",
     "shell.execute_reply.started": "2025-04-02T15:14:11.005992Z"
    },
    "trusted": true
   },
   "outputs": [
    {
     "data": {
      "text/plain": [
       "220756"
      ]
     },
     "execution_count": 66,
     "metadata": {},
     "output_type": "execute_result"
    }
   ],
   "source": [
    "len(dataset)"
   ]
  },
  {
   "cell_type": "code",
   "execution_count": 67,
   "metadata": {
    "execution": {
     "iopub.execute_input": "2025-04-02T15:14:11.027226Z",
     "iopub.status.busy": "2025-04-02T15:14:11.027012Z",
     "iopub.status.idle": "2025-04-02T15:14:11.040362Z",
     "shell.execute_reply": "2025-04-02T15:14:11.039561Z",
     "shell.execute_reply.started": "2025-04-02T15:14:11.027207Z"
    },
    "trusted": true
   },
   "outputs": [],
   "source": [
    "device = torch.device('cuda' if torch.cuda.is_available() else 'cpu')"
   ]
  },
  {
   "cell_type": "code",
   "execution_count": 74,
   "metadata": {
    "execution": {
     "iopub.execute_input": "2025-04-02T16:07:30.520887Z",
     "iopub.status.busy": "2025-04-02T16:07:30.520572Z",
     "iopub.status.idle": "2025-04-02T16:07:30.567174Z",
     "shell.execute_reply": "2025-04-02T16:07:30.566559Z",
     "shell.execute_reply.started": "2025-04-02T16:07:30.520864Z"
    },
    "trusted": true
   },
   "outputs": [],
   "source": [
    "import torch\n",
    "import torch.nn as nn\n",
    "\n",
    "class NextWordPredictor(nn.Module):\n",
    "    def __init__(self, vocab_size, embedding_dim=300, hidden_dim=512):\n",
    "        super(NextWordPredictor, self).__init__()\n",
    "        \n",
    "        self.embed = nn.Embedding(vocab_size, embedding_dim) \n",
    "        \n",
    "        self.lstm = nn.LSTM(embedding_dim, hidden_dim, num_layers=1, batch_first=True, bidirectional=True)\n",
    "        \n",
    "        self.fc = nn.Linear(hidden_dim*2, vocab_size)\n",
    "        \n",
    "    def forward(self, x, hidden=None):\n",
    "        x = self.embed(x)\n",
    "        lstm_out, hidden = self.lstm(x, hidden)\n",
    "        last_timestep_output = lstm_out[:, -1, :]\n",
    "        output = self.fc(last_timestep_output)\n",
    "    \n",
    "        return output\n",
    "\n",
    "# Initialize the model\n",
    "vocab_size = len(word2idx)\n",
    "embedding_dim = 300  # You can use pre-trained embeddings if available\n",
    "hidden_dim = 512 # LSTM hidden dimension\n",
    "model = NextWordPredictor(vocab_size, embedding_dim, hidden_dim).to(device)\n"
   ]
  },
  {
   "cell_type": "code",
   "execution_count": 75,
   "metadata": {
    "execution": {
     "iopub.execute_input": "2025-04-02T16:07:38.792128Z",
     "iopub.status.busy": "2025-04-02T16:07:38.791854Z",
     "iopub.status.idle": "2025-04-02T16:07:38.796278Z",
     "shell.execute_reply": "2025-04-02T16:07:38.795412Z",
     "shell.execute_reply.started": "2025-04-02T16:07:38.792108Z"
    },
    "trusted": true
   },
   "outputs": [],
   "source": [
    "epochs = 50\n",
    "criterion = nn.CrossEntropyLoss() \n",
    "optim = torch.optim.Adam(model.parameters(),lr = 0.0003,weight_decay=1e-5)"
   ]
  },
  {
   "cell_type": "code",
   "execution_count": null,
   "metadata": {
    "execution": {
     "iopub.execute_input": "2025-04-02T16:07:42.014638Z",
     "iopub.status.busy": "2025-04-02T16:07:42.014306Z"
    },
    "trusted": true
   },
   "outputs": [
    {
     "name": "stderr",
     "output_type": "stream",
     "text": [
      "0/50: 100%|██████████| 3450/3450 [02:34<00:00, 22.29it/s]\n"
     ]
    },
    {
     "name": "stdout",
     "output_type": "stream",
     "text": [
      "Epoch 1/50 - Loss: 5.7680, Accuracy: 12.11%\n"
     ]
    },
    {
     "name": "stderr",
     "output_type": "stream",
     "text": [
      "1/50: 100%|██████████| 3450/3450 [02:31<00:00, 22.77it/s]\n"
     ]
    },
    {
     "name": "stdout",
     "output_type": "stream",
     "text": [
      "Epoch 2/50 - Loss: 5.1286, Accuracy: 15.10%\n"
     ]
    },
    {
     "name": "stderr",
     "output_type": "stream",
     "text": [
      "2/50: 100%|██████████| 3450/3450 [02:54<00:00, 19.78it/s]\n"
     ]
    },
    {
     "name": "stdout",
     "output_type": "stream",
     "text": [
      "Epoch 3/50 - Loss: 4.7618, Accuracy: 16.70%\n"
     ]
    },
    {
     "name": "stderr",
     "output_type": "stream",
     "text": [
      "3/50: 100%|██████████| 3450/3450 [02:57<00:00, 19.49it/s]\n"
     ]
    },
    {
     "name": "stdout",
     "output_type": "stream",
     "text": [
      "Epoch 4/50 - Loss: 4.4319, Accuracy: 18.50%\n"
     ]
    },
    {
     "name": "stderr",
     "output_type": "stream",
     "text": [
      "4/50: 100%|██████████| 3450/3450 [02:48<00:00, 20.50it/s]\n"
     ]
    },
    {
     "name": "stdout",
     "output_type": "stream",
     "text": [
      "Epoch 5/50 - Loss: 4.1268, Accuracy: 20.53%\n"
     ]
    },
    {
     "name": "stderr",
     "output_type": "stream",
     "text": [
      "5/50: 100%|██████████| 3450/3450 [02:35<00:00, 22.21it/s]\n"
     ]
    },
    {
     "name": "stdout",
     "output_type": "stream",
     "text": [
      "Epoch 6/50 - Loss: 3.8498, Accuracy: 22.84%\n"
     ]
    },
    {
     "name": "stderr",
     "output_type": "stream",
     "text": [
      "6/50: 100%|██████████| 3450/3450 [02:39<00:00, 21.61it/s]\n"
     ]
    },
    {
     "name": "stdout",
     "output_type": "stream",
     "text": [
      "Epoch 7/50 - Loss: 3.5986, Accuracy: 25.50%\n"
     ]
    },
    {
     "name": "stderr",
     "output_type": "stream",
     "text": [
      "7/50: 100%|██████████| 3450/3450 [02:52<00:00, 19.94it/s]\n"
     ]
    },
    {
     "name": "stdout",
     "output_type": "stream",
     "text": [
      "Epoch 8/50 - Loss: 3.3599, Accuracy: 28.59%\n"
     ]
    },
    {
     "name": "stderr",
     "output_type": "stream",
     "text": [
      "8/50: 100%|██████████| 3450/3450 [02:21<00:00, 24.41it/s]\n"
     ]
    },
    {
     "name": "stdout",
     "output_type": "stream",
     "text": [
      "Epoch 9/50 - Loss: 3.1431, Accuracy: 31.76%\n"
     ]
    },
    {
     "name": "stderr",
     "output_type": "stream",
     "text": [
      "9/50: 100%|██████████| 3450/3450 [02:42<00:00, 21.22it/s]\n"
     ]
    },
    {
     "name": "stdout",
     "output_type": "stream",
     "text": [
      "Epoch 10/50 - Loss: 2.9411, Accuracy: 35.08%\n"
     ]
    },
    {
     "name": "stderr",
     "output_type": "stream",
     "text": [
      "10/50: 100%|██████████| 3450/3450 [02:56<00:00, 19.57it/s]\n"
     ]
    },
    {
     "name": "stdout",
     "output_type": "stream",
     "text": [
      "Epoch 11/50 - Loss: 2.7550, Accuracy: 38.25%\n"
     ]
    },
    {
     "name": "stderr",
     "output_type": "stream",
     "text": [
      "11/50: 100%|██████████| 3450/3450 [02:51<00:00, 20.15it/s]\n"
     ]
    },
    {
     "name": "stdout",
     "output_type": "stream",
     "text": [
      "Epoch 12/50 - Loss: 2.5837, Accuracy: 41.52%\n"
     ]
    },
    {
     "name": "stderr",
     "output_type": "stream",
     "text": [
      "12/50: 100%|██████████| 3450/3450 [02:57<00:00, 19.49it/s]\n"
     ]
    },
    {
     "name": "stdout",
     "output_type": "stream",
     "text": [
      "Epoch 13/50 - Loss: 2.4175, Accuracy: 44.84%\n"
     ]
    },
    {
     "name": "stderr",
     "output_type": "stream",
     "text": [
      "13/50: 100%|██████████| 3450/3450 [02:50<00:00, 20.22it/s]\n"
     ]
    },
    {
     "name": "stdout",
     "output_type": "stream",
     "text": [
      "Epoch 14/50 - Loss: 2.2647, Accuracy: 48.14%\n"
     ]
    },
    {
     "name": "stderr",
     "output_type": "stream",
     "text": [
      "14/50: 100%|██████████| 3450/3450 [02:52<00:00, 19.99it/s]\n"
     ]
    },
    {
     "name": "stdout",
     "output_type": "stream",
     "text": [
      "Epoch 15/50 - Loss: 2.1245, Accuracy: 51.14%\n"
     ]
    },
    {
     "name": "stderr",
     "output_type": "stream",
     "text": [
      "15/50: 100%|██████████| 3450/3450 [02:58<00:00, 19.34it/s]\n"
     ]
    },
    {
     "name": "stdout",
     "output_type": "stream",
     "text": [
      "Epoch 16/50 - Loss: 1.9927, Accuracy: 54.19%\n"
     ]
    },
    {
     "name": "stderr",
     "output_type": "stream",
     "text": [
      "16/50: 100%|██████████| 3450/3450 [02:53<00:00, 19.90it/s]\n"
     ]
    },
    {
     "name": "stdout",
     "output_type": "stream",
     "text": [
      "Epoch 17/50 - Loss: 1.8981, Accuracy: 56.25%\n"
     ]
    },
    {
     "name": "stderr",
     "output_type": "stream",
     "text": [
      "17/50: 100%|██████████| 3450/3450 [02:49<00:00, 20.33it/s]\n"
     ]
    },
    {
     "name": "stdout",
     "output_type": "stream",
     "text": [
      "Epoch 18/50 - Loss: 1.7782, Accuracy: 59.15%\n"
     ]
    },
    {
     "name": "stderr",
     "output_type": "stream",
     "text": [
      "18/50: 100%|██████████| 3450/3450 [02:38<00:00, 21.81it/s]\n"
     ]
    },
    {
     "name": "stdout",
     "output_type": "stream",
     "text": [
      "Epoch 19/50 - Loss: 1.6770, Accuracy: 61.52%\n"
     ]
    },
    {
     "name": "stderr",
     "output_type": "stream",
     "text": [
      "19/50: 100%|██████████| 3450/3450 [02:42<00:00, 21.21it/s]\n"
     ]
    },
    {
     "name": "stdout",
     "output_type": "stream",
     "text": [
      "Epoch 20/50 - Loss: 1.5841, Accuracy: 63.68%\n"
     ]
    },
    {
     "name": "stderr",
     "output_type": "stream",
     "text": [
      "20/50: 100%|██████████| 3450/3450 [02:51<00:00, 20.09it/s]\n"
     ]
    },
    {
     "name": "stdout",
     "output_type": "stream",
     "text": [
      "Epoch 21/50 - Loss: 1.4868, Accuracy: 66.06%\n"
     ]
    },
    {
     "name": "stderr",
     "output_type": "stream",
     "text": [
      "21/50: 100%|██████████| 3450/3450 [02:52<00:00, 20.03it/s]\n"
     ]
    },
    {
     "name": "stdout",
     "output_type": "stream",
     "text": [
      "Epoch 22/50 - Loss: 1.4111, Accuracy: 67.83%\n"
     ]
    },
    {
     "name": "stderr",
     "output_type": "stream",
     "text": [
      "22/50: 100%|██████████| 3450/3450 [02:52<00:00, 19.99it/s]\n"
     ]
    },
    {
     "name": "stdout",
     "output_type": "stream",
     "text": [
      "Epoch 23/50 - Loss: 1.3266, Accuracy: 70.01%\n"
     ]
    },
    {
     "name": "stderr",
     "output_type": "stream",
     "text": [
      "23/50: 100%|██████████| 3450/3450 [02:54<00:00, 19.73it/s]\n"
     ]
    },
    {
     "name": "stdout",
     "output_type": "stream",
     "text": [
      "Epoch 24/50 - Loss: 1.2624, Accuracy: 71.66%\n"
     ]
    },
    {
     "name": "stderr",
     "output_type": "stream",
     "text": [
      "24/50: 100%|██████████| 3450/3450 [02:56<00:00, 19.52it/s]\n"
     ]
    },
    {
     "name": "stdout",
     "output_type": "stream",
     "text": [
      "Epoch 25/50 - Loss: 1.1943, Accuracy: 73.31%\n"
     ]
    },
    {
     "name": "stderr",
     "output_type": "stream",
     "text": [
      "25/50: 100%|██████████| 3450/3450 [02:54<00:00, 19.74it/s]\n"
     ]
    },
    {
     "name": "stdout",
     "output_type": "stream",
     "text": [
      "Epoch 26/50 - Loss: 1.1223, Accuracy: 75.00%\n"
     ]
    },
    {
     "name": "stderr",
     "output_type": "stream",
     "text": [
      "26/50: 100%|██████████| 3450/3450 [02:30<00:00, 22.92it/s]\n"
     ]
    },
    {
     "name": "stdout",
     "output_type": "stream",
     "text": [
      "Epoch 27/50 - Loss: 1.0686, Accuracy: 76.33%\n"
     ]
    },
    {
     "name": "stderr",
     "output_type": "stream",
     "text": [
      "27/50: 100%|██████████| 3450/3450 [02:38<00:00, 21.75it/s]\n"
     ]
    },
    {
     "name": "stdout",
     "output_type": "stream",
     "text": [
      "Epoch 28/50 - Loss: 0.9977, Accuracy: 78.32%\n"
     ]
    },
    {
     "name": "stderr",
     "output_type": "stream",
     "text": [
      "28/50: 100%|██████████| 3450/3450 [02:52<00:00, 19.98it/s]\n"
     ]
    },
    {
     "name": "stdout",
     "output_type": "stream",
     "text": [
      "Epoch 29/50 - Loss: 0.9928, Accuracy: 78.08%\n"
     ]
    },
    {
     "name": "stderr",
     "output_type": "stream",
     "text": [
      "29/50: 100%|██████████| 3450/3450 [02:57<00:00, 19.45it/s]\n"
     ]
    },
    {
     "name": "stdout",
     "output_type": "stream",
     "text": [
      "Epoch 30/50 - Loss: 0.9264, Accuracy: 79.93%\n"
     ]
    },
    {
     "name": "stderr",
     "output_type": "stream",
     "text": [
      "30/50: 100%|██████████| 3450/3450 [02:57<00:00, 19.46it/s]\n"
     ]
    },
    {
     "name": "stdout",
     "output_type": "stream",
     "text": [
      "Epoch 31/50 - Loss: 0.8704, Accuracy: 81.36%\n"
     ]
    },
    {
     "name": "stderr",
     "output_type": "stream",
     "text": [
      "31/50: 100%|██████████| 3450/3450 [02:55<00:00, 19.64it/s]\n"
     ]
    },
    {
     "name": "stdout",
     "output_type": "stream",
     "text": [
      "Epoch 32/50 - Loss: 0.8464, Accuracy: 81.92%\n"
     ]
    },
    {
     "name": "stderr",
     "output_type": "stream",
     "text": [
      "32/50: 100%|██████████| 3450/3450 [02:49<00:00, 20.30it/s]\n"
     ]
    },
    {
     "name": "stdout",
     "output_type": "stream",
     "text": [
      "Epoch 33/50 - Loss: 0.7949, Accuracy: 83.35%\n"
     ]
    },
    {
     "name": "stderr",
     "output_type": "stream",
     "text": [
      "33/50: 100%|██████████| 3450/3450 [02:53<00:00, 19.92it/s]\n"
     ]
    },
    {
     "name": "stdout",
     "output_type": "stream",
     "text": [
      "Epoch 34/50 - Loss: 0.7471, Accuracy: 84.67%\n"
     ]
    },
    {
     "name": "stderr",
     "output_type": "stream",
     "text": [
      "34/50: 100%|██████████| 3450/3450 [02:59<00:00, 19.27it/s]\n"
     ]
    },
    {
     "name": "stdout",
     "output_type": "stream",
     "text": [
      "Epoch 35/50 - Loss: 0.7264, Accuracy: 85.09%\n"
     ]
    },
    {
     "name": "stderr",
     "output_type": "stream",
     "text": [
      "35/50: 100%|██████████| 3450/3450 [02:50<00:00, 20.20it/s]\n"
     ]
    },
    {
     "name": "stdout",
     "output_type": "stream",
     "text": [
      "Epoch 36/50 - Loss: 0.6909, Accuracy: 85.93%\n"
     ]
    },
    {
     "name": "stderr",
     "output_type": "stream",
     "text": [
      "36/50: 100%|██████████| 3450/3450 [02:49<00:00, 20.41it/s]\n"
     ]
    },
    {
     "name": "stdout",
     "output_type": "stream",
     "text": [
      "Epoch 37/50 - Loss: 0.6578, Accuracy: 86.83%\n"
     ]
    },
    {
     "name": "stderr",
     "output_type": "stream",
     "text": [
      "37/50: 100%|██████████| 3450/3450 [02:55<00:00, 19.71it/s]\n"
     ]
    },
    {
     "name": "stdout",
     "output_type": "stream",
     "text": [
      "Epoch 38/50 - Loss: 0.6354, Accuracy: 87.47%\n"
     ]
    },
    {
     "name": "stderr",
     "output_type": "stream",
     "text": [
      "38/50: 100%|██████████| 3450/3450 [02:53<00:00, 19.94it/s]\n"
     ]
    },
    {
     "name": "stdout",
     "output_type": "stream",
     "text": [
      "Epoch 39/50 - Loss: 0.6011, Accuracy: 88.49%\n"
     ]
    },
    {
     "name": "stderr",
     "output_type": "stream",
     "text": [
      "39/50: 100%|██████████| 3450/3450 [02:59<00:00, 19.23it/s]\n"
     ]
    },
    {
     "name": "stdout",
     "output_type": "stream",
     "text": [
      "Epoch 40/50 - Loss: 0.5756, Accuracy: 89.10%\n"
     ]
    },
    {
     "name": "stderr",
     "output_type": "stream",
     "text": [
      "40/50: 100%|██████████| 3450/3450 [03:01<00:00, 19.05it/s]\n"
     ]
    },
    {
     "name": "stdout",
     "output_type": "stream",
     "text": [
      "Epoch 41/50 - Loss: 0.5577, Accuracy: 89.47%\n"
     ]
    },
    {
     "name": "stderr",
     "output_type": "stream",
     "text": [
      "41/50: 100%|██████████| 3450/3450 [02:53<00:00, 19.83it/s]\n"
     ]
    },
    {
     "name": "stdout",
     "output_type": "stream",
     "text": [
      "Epoch 42/50 - Loss: 0.5243, Accuracy: 90.41%\n"
     ]
    },
    {
     "name": "stderr",
     "output_type": "stream",
     "text": [
      "42/50: 100%|██████████| 3450/3450 [02:55<00:00, 19.60it/s]\n"
     ]
    },
    {
     "name": "stdout",
     "output_type": "stream",
     "text": [
      "Epoch 43/50 - Loss: 0.5310, Accuracy: 90.10%\n"
     ]
    },
    {
     "name": "stderr",
     "output_type": "stream",
     "text": [
      "43/50: 100%|██████████| 3450/3450 [02:57<00:00, 19.47it/s]\n"
     ]
    },
    {
     "name": "stdout",
     "output_type": "stream",
     "text": [
      "Epoch 44/50 - Loss: 0.5113, Accuracy: 90.62%\n"
     ]
    },
    {
     "name": "stderr",
     "output_type": "stream",
     "text": [
      "44/50: 100%|██████████| 3450/3450 [02:56<00:00, 19.57it/s]\n"
     ]
    },
    {
     "name": "stdout",
     "output_type": "stream",
     "text": [
      "Epoch 45/50 - Loss: 0.4925, Accuracy: 91.08%\n"
     ]
    },
    {
     "name": "stderr",
     "output_type": "stream",
     "text": [
      "45/50: 100%|██████████| 3450/3450 [02:54<00:00, 19.79it/s]\n"
     ]
    },
    {
     "name": "stdout",
     "output_type": "stream",
     "text": [
      "Epoch 46/50 - Loss: 0.4826, Accuracy: 91.31%\n"
     ]
    },
    {
     "name": "stderr",
     "output_type": "stream",
     "text": [
      "46/50: 100%|██████████| 3450/3450 [02:44<00:00, 20.99it/s]\n"
     ]
    },
    {
     "name": "stdout",
     "output_type": "stream",
     "text": [
      "Epoch 47/50 - Loss: 0.4669, Accuracy: 91.70%\n"
     ]
    },
    {
     "name": "stderr",
     "output_type": "stream",
     "text": [
      "47/50: 100%|██████████| 3450/3450 [02:29<00:00, 23.03it/s]\n"
     ]
    },
    {
     "name": "stdout",
     "output_type": "stream",
     "text": [
      "Epoch 48/50 - Loss: 0.4636, Accuracy: 91.80%\n"
     ]
    },
    {
     "name": "stderr",
     "output_type": "stream",
     "text": [
      "48/50: 100%|██████████| 3450/3450 [02:51<00:00, 20.15it/s]\n"
     ]
    },
    {
     "name": "stdout",
     "output_type": "stream",
     "text": [
      "Epoch 49/50 - Loss: 0.5877, Accuracy: 87.79%\n"
     ]
    },
    {
     "name": "stderr",
     "output_type": "stream",
     "text": [
      "49/50: 100%|██████████| 3450/3450 [02:32<00:00, 22.58it/s]"
     ]
    },
    {
     "name": "stdout",
     "output_type": "stream",
     "text": [
      "Epoch 50/50 - Loss: 0.5177, Accuracy: 89.95%\n"
     ]
    },
    {
     "name": "stderr",
     "output_type": "stream",
     "text": [
      "\n"
     ]
    }
   ],
   "source": [
    "import tqdm\n",
    "\n",
    "for e in range(epochs):\n",
    "    epoch_loss = 0\n",
    "    epoch_accuracy = 0\n",
    "    num_batches = 0\n",
    "\n",
    "    for X, y in tqdm.tqdm(dataloader, f'{e}/{epochs}'):\n",
    "        X, y = X.to(device), y.to(device)\n",
    "\n",
    "        y_pred = model(X)\n",
    "\n",
    "        loss = criterion(y_pred, y)\n",
    "\n",
    "        acc = (torch.argmax(y_pred, dim=1) == y).float().mean() * 100  \n",
    "\n",
    "        epoch_loss += loss.item()\n",
    "        epoch_accuracy += acc.item()\n",
    "        num_batches += 1\n",
    "\n",
    "        optim.zero_grad()\n",
    "        loss.backward()\n",
    "        optim.step()\n",
    "\n",
    "    avg_epoch_loss = epoch_loss / num_batches\n",
    "    avg_epoch_accuracy = epoch_accuracy / num_batches\n",
    "\n",
    "    print(f'Epoch {e+1}/{epochs} - Loss: {avg_epoch_loss:.4f}, Accuracy: {avg_epoch_accuracy:.2f}%')"
   ]
  },
  {
   "cell_type": "code",
   "execution_count": 119,
   "metadata": {},
   "outputs": [],
   "source": [
    "torch.save(model.state_dict(),r'D:\\Codes\\Python\\DL\\Codes\\nextwordpred.pt')"
   ]
  },
  {
   "cell_type": "code",
   "execution_count": 120,
   "metadata": {},
   "outputs": [],
   "source": [
    "import torch.nn.functional as F\n",
    "\n",
    "def prediction(model, vocab, inv_vocab, text, tokens, temperature=1.0, top_k=5):\n",
    "    sequences = [vocab.get(token, vocab[\"<OOV>\"]) for token in text.lower().split()]\n",
    "    generated_words = [inv_vocab[w] for w in sequences]  \n",
    "\n",
    "    for _ in range(tokens):\n",
    "        sequences_t = torch.tensor(sequences, dtype=torch.long)\n",
    "        \n",
    "        if len(sequences_t) < 101:\n",
    "            z = torch.zeros(101 - len(sequences_t), dtype=torch.long)\n",
    "            padded = torch.cat((z, sequences_t)).unsqueeze(0).to(device)\n",
    "        else:\n",
    "            padded = sequences_t[-101:].unsqueeze(0).to(device)\n",
    "\n",
    "        o = model(padded)\n",
    "\n",
    "        probs = F.softmax(o / temperature, dim=1)\n",
    "\n",
    "        top_probs, top_indices = torch.topk(probs, top_k, dim=1)\n",
    "        top_probs = top_probs.squeeze()\n",
    "        top_indices = top_indices.squeeze()\n",
    "\n",
    "        sampled_idx = top_indices[torch.multinomial(top_probs, 1).item()].item()\n",
    "\n",
    "        predicted_word = inv_vocab.get(sampled_idx, \"<OOV>\")\n",
    "        sequences.append(sampled_idx)\n",
    "        generated_words.append(predicted_word)  \n",
    "    \n",
    "    final = []    \n",
    "    i = 0\n",
    "    while i < len(generated_words) - 1:\n",
    "        if \"'\" in generated_words[i+1]:\n",
    "            final.append(generated_words[i] + generated_words[i+1])\n",
    "            del generated_words[i+1]  \n",
    "\n",
    "        else:\n",
    "            final.append(generated_words[i])\n",
    "        i += 1  \n",
    "\n",
    "    if generated_words:\n",
    "        final.append(generated_words[-1])\n",
    "        \n",
    "    print(' '.join(final))\n"
   ]
  },
  {
   "cell_type": "code",
   "execution_count": 103,
   "metadata": {},
   "outputs": [
    {
     "name": "stdout",
     "output_type": "stream",
     "text": [
      "we saw this late at best , because it seems to\n"
     ]
    }
   ],
   "source": [
    "prediction(model, word2idx, idx2word, 'We', 10, temperature=1.0, top_k=5)"
   ]
  },
  {
   "cell_type": "code",
   "execution_count": 105,
   "metadata": {},
   "outputs": [
    {
     "name": "stdout",
     "output_type": "stream",
     "text": [
      "i am really shocked that this poor excuse for those things on i'd i\n"
     ]
    }
   ],
   "source": [
    "prediction(model, word2idx, idx2word, 'I am', 12, temperature=1.0, top_k=5)"
   ]
  },
  {
   "cell_type": "code",
   "execution_count": 108,
   "metadata": {},
   "outputs": [
    {
     "name": "stdout",
     "output_type": "stream",
     "text": [
      "everyone else that director might be better well written and directed this movie look for\n"
     ]
    }
   ],
   "source": [
    "prediction(model, word2idx, idx2word, 'Everyone', 14, temperature=1.0, top_k=5)"
   ]
  },
  {
   "cell_type": "code",
   "execution_count": null,
   "metadata": {},
   "outputs": [
    {
     "name": "stdout",
     "output_type": "stream",
     "text": [
      "<OOV> this movie appears to be in one movie and expected he attempts to raise an endless\n"
     ]
    }
   ],
   "source": [
    "prediction(model, word2idx, idx2word, 'Chapter', 16, temperature=1.0, top_k=5)  # chapter is not in the vocabulary"
   ]
  },
  {
   "cell_type": "code",
   "execution_count": 111,
   "metadata": {},
   "outputs": [
    {
     "name": "stdout",
     "output_type": "stream",
     "text": [
      "maybe someone that make me think by saying i don't get this one by saying i\n"
     ]
    }
   ],
   "source": [
    "prediction(model, word2idx, idx2word, 'maybe', 16, temperature=1.0, top_k=5)"
   ]
  },
  {
   "cell_type": "code",
   "execution_count": 113,
   "metadata": {},
   "outputs": [
    {
     "name": "stdout",
     "output_type": "stream",
     "text": [
      "lights out of the original planet , and this is why this movie is so awful , that it\n"
     ]
    }
   ],
   "source": [
    "prediction(model, word2idx, idx2word, 'lights', 18, temperature=1.0, top_k=5)"
   ]
  },
  {
   "cell_type": "code",
   "execution_count": 114,
   "metadata": {},
   "outputs": [
    {
     "name": "stdout",
     "output_type": "stream",
     "text": [
      "remember when i first saw the preview of his first film so do not be good enough\n"
     ]
    }
   ],
   "source": [
    "prediction(model, word2idx, idx2word, 'Remember', 16, temperature=1.0, top_k=5)"
   ]
  }
 ],
 "metadata": {
  "kaggle": {
   "accelerator": "gpu",
   "dataSources": [
    {
     "datasetId": 7019104,
     "sourceId": 11235797,
     "sourceType": "datasetVersion"
    }
   ],
   "dockerImageVersionId": 30918,
   "isGpuEnabled": true,
   "isInternetEnabled": true,
   "language": "python",
   "sourceType": "notebook"
  },
  "kernelspec": {
   "display_name": "Python",
   "language": "python",
   "name": "python3"
  },
  "language_info": {
   "codemirror_mode": {
    "name": "ipython",
    "version": 3
   },
   "file_extension": ".py",
   "mimetype": "text/x-python",
   "name": "python",
   "nbconvert_exporter": "python",
   "pygments_lexer": "ipython3",
   "version": "3.11.11"
  }
 },
 "nbformat": 4,
 "nbformat_minor": 4
}
